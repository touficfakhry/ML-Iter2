{
 "cells": [
  {
   "cell_type": "code",
   "execution_count": 1,
   "metadata": {},
   "outputs": [
    {
     "name": "stdout",
     "output_type": "stream",
     "text": [
      "WARNING:tensorflow:From c:\\Users\\toufic.f\\AppData\\Local\\Programs\\Python\\Python39\\lib\\site-packages\\keras\\src\\losses.py:2976: The name tf.losses.sparse_softmax_cross_entropy is deprecated. Please use tf.compat.v1.losses.sparse_softmax_cross_entropy instead.\n",
      "\n"
     ]
    }
   ],
   "source": [
    "from tensorflow.keras.models import Model\n",
    "from tensorflow.keras.applications import VGG16\n",
    "from tensorflow.keras.preprocessing.image import ImageDataGenerator\n",
    "from PIL import Image\n",
    "import cv2\n",
    "import os\n",
    "import numpy as np\n",
    "import pandas as pd\n",
    "\n",
    "dataset_dir = \"../StanfordCarDataset\"\n"
   ]
  },
  {
   "cell_type": "markdown",
   "metadata": {},
   "source": [
    "Preprocessing/Resizing the images "
   ]
  },
  {
   "cell_type": "code",
   "execution_count": 2,
   "metadata": {},
   "outputs": [],
   "source": [
    "def normalize_image(image):\n",
    "  image_array = np.array(image)\n",
    "  normalized_array = image_array / 255.0\n",
    "  return Image.fromarray((normalized_array * 255).astype(np.uint8))\n",
    "\n",
    "def denoise_image(image):\n",
    "  # Apply median filtering (adjust kernel size as needed)\n",
    "  image = cv2.medianBlur(image, ksize=5)\n",
    "\n",
    "  # Normalize the image\n",
    "  return normalize_image(image)\n",
    "\n",
    "def preprocess_image(image):\n",
    "  return normalize_image(image)\n",
    "  # denoise_image(image)"
   ]
  },
  {
   "cell_type": "markdown",
   "metadata": {},
   "source": [
    "Preprocessing images by resizing and normalizing them.\n",
    "\n",
    "Saving the new images in new train and test directories."
   ]
  },
  {
   "cell_type": "code",
   "execution_count": 4,
   "metadata": {},
   "outputs": [],
   "source": [
    "train_dataset_folder = f\"{dataset_dir}/cars_train/cars_train\"\n",
    "train_output_folder = f\"{dataset_dir}/resized_dataset_train\"\n",
    "\n",
    "test_dataset_folder = f\"{dataset_dir}/cars_test/cars_test\"\n",
    "test_output_folder = f\"{dataset_dir}/resized_dataset_test\""
   ]
  },
  {
   "cell_type": "code",
   "execution_count": 3,
   "metadata": {},
   "outputs": [],
   "source": [
    "def resize_images(dataset_folder, output_folder):\n",
    "    # Loop through all images in the dataset folder\n",
    "    for filename in os.listdir(dataset_folder):\n",
    "        # Skiping non-image files in case any\n",
    "        if not filename.lower().endswith((\".jpg\", \".jpeg\", \".png\")):\n",
    "            continue\n",
    "\n",
    "        image_path = os.path.join(dataset_folder, filename)\n",
    "        image = Image.open(image_path)\n",
    "\n",
    "        resized_image = image.resize(target_size, Image.LANCZOS)\n",
    "\n",
    "        if image.mode != 'RGB':\n",
    "            resized_image = resized_image.convert('RGB')\n",
    "            \n",
    "        resized_image = preprocess_image(resized_image)\n",
    "\n",
    "        # Saving the resized image\n",
    "        output_path = os.path.join(output_folder, filename)\n",
    "        resized_image.save(output_path)\n",
    "\n",
    "target_size = (224, 224)\n",
    "output_folder = f\"../\"\n",
    "\n",
    "os.makedirs(train_output_folder, exist_ok=True)\n",
    "os.makedirs(test_output_folder, exist_ok=True)\n",
    "\n",
    "resize_images(train_dataset_folder, train_output_folder)\n",
    "resize_images(test_dataset_folder, test_output_folder)"
   ]
  },
  {
   "cell_type": "code",
   "execution_count": 9,
   "metadata": {},
   "outputs": [
    {
     "name": "stdout",
     "output_type": "stream",
     "text": [
      "1/1 [==============================] - 1s 1s/step\n"
     ]
    }
   ],
   "source": [
    "base_model = VGG16(weights='imagenet', include_top=True)\n",
    "feature_extractor = Model(inputs=base_model.input, outputs=base_model.get_layer('block5_pool').output)\n",
    "\n",
    "# List to store extracted features\n",
    "features_list = []\n",
    "\n",
    "# Iterate over the images in the directory\n",
    "for filename in os.listdir(train_dataset_folder):\n",
    "    if filename.endswith(('.jpg', '.jpeg', '.png')):\n",
    "        # Load and preprocess the image\n",
    "        img_path = os.path.join(train_dataset_folder, filename)\n",
    "        img = Image.open(img_path)\n",
    "        img_array = np.array(img)\n",
    "        img_array = np.expand_dims(img_array, axis=0)  # Add batch dimension\n",
    "        img_array = img_array / 255.0\n",
    "\n",
    "        # Extract features from the image\n",
    "        features = feature_extractor.predict(img_array)\n",
    "\n",
    "        # Append the features to the list\n",
    "        features_list.append(features)\n",
    "\n",
    "# features_array = np.vstack(features_list)\n",
    "features_list_flattened = [features.reshape(features.shape[0], -1) for features in features_list]\n",
    "\n",
    "# Convert the numpy array to a pandas DataFrame\n",
    "features_df = pd.DataFrame(np.concatenate(features_list_flattened, axis=0))\n",
    "\n",
    "# Save the DataFrame to a CSV file\n",
    "features_df.to_csv('extracted_features.csv', index=False)"
   ]
  }
 ],
 "metadata": {
  "kernelspec": {
   "display_name": "Python 3",
   "language": "python",
   "name": "python3"
  },
  "language_info": {
   "codemirror_mode": {
    "name": "ipython",
    "version": 3
   },
   "file_extension": ".py",
   "mimetype": "text/x-python",
   "name": "python",
   "nbconvert_exporter": "python",
   "pygments_lexer": "ipython3",
   "version": "3.9.1"
  }
 },
 "nbformat": 4,
 "nbformat_minor": 2
}
