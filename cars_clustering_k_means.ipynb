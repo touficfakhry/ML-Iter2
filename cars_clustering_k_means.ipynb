{
 "cells": [
  {
   "cell_type": "code",
   "execution_count": 9,
   "metadata": {},
   "outputs": [],
   "source": [
    "from sklearn.cluster import KMeans\n",
    "import pandas as pd\n",
    "from sklearn.metrics import silhouette_score, calinski_harabasz_score, davies_bouldin_score, adjusted_rand_score"
   ]
  },
  {
   "cell_type": "code",
   "execution_count": 3,
   "metadata": {},
   "outputs": [],
   "source": [
    "features_csv_file = \"./extracted_features.csv\"\n",
    "# Load extracted features from CSV\n",
    "features_df = pd.read_csv(features_csv_file)\n"
   ]
  },
  {
   "cell_type": "code",
   "execution_count": 4,
   "metadata": {},
   "outputs": [],
   "source": [
    "# Define a mapping from cluster labels to meaningful categories\n",
    "label_mapping = {\n",
    "    0: 'Resident',\n",
    "    1: 'Visitor',\n",
    "    2: 'Frequent Visitor',\n",
    "    3: 'First-time Visitor',\n",
    "    4: 'Delivery'\n",
    "}"
   ]
  },
  {
   "cell_type": "code",
   "execution_count": 5,
   "metadata": {},
   "outputs": [
    {
     "name": "stderr",
     "output_type": "stream",
     "text": [
      "c:\\Users\\toufic.f\\AppData\\Local\\Programs\\Python\\Python39\\lib\\site-packages\\sklearn\\cluster\\_kmeans.py:1416: FutureWarning: The default value of `n_init` will change from 10 to 'auto' in 1.4. Set the value of `n_init` explicitly to suppress the warning\n",
      "  super()._check_params_vs_input(X, default_n_init=10)\n"
     ]
    },
    {
     "name": "stdout",
     "output_type": "stream",
     "text": [
      "[2 2 3 4 2 1 0 2 2 3]\n"
     ]
    }
   ],
   "source": [
    "num_clusters = 5  # Number of clusters (e.g., residents, frequent visitors, first-time visitors, delivery, etc.)\n",
    "kmeans = KMeans(n_clusters=num_clusters, random_state=0).fit(features_df)\n",
    "\n",
    "# Assign cluster labels to the data\n",
    "cluster_labels = kmeans.labels_\n",
    "\n",
    "# Print cluster labels\n",
    "print(cluster_labels)\n"
   ]
  },
  {
   "cell_type": "code",
   "execution_count": 10,
   "metadata": {},
   "outputs": [
    {
     "ename": "NameError",
     "evalue": "name 'ground_truth_labels' is not defined",
     "output_type": "error",
     "traceback": [
      "\u001b[1;31m---------------------------------------------------------------------------\u001b[0m",
      "\u001b[1;31mNameError\u001b[0m                                 Traceback (most recent call last)",
      "Cell \u001b[1;32mIn[10], line 11\u001b[0m\n\u001b[0;32m      8\u001b[0m davies_bouldin \u001b[38;5;241m=\u001b[39m davies_bouldin_score(features_df, cluster_labels)\n\u001b[0;32m     10\u001b[0m \u001b[38;5;66;03m# Calculate Adjusted Rand Index (ARI)\u001b[39;00m\n\u001b[1;32m---> 11\u001b[0m ari \u001b[38;5;241m=\u001b[39m adjusted_rand_score(\u001b[43mground_truth_labels\u001b[49m, cluster_labels)\n\u001b[0;32m     13\u001b[0m \u001b[38;5;28mprint\u001b[39m(\u001b[38;5;124mf\u001b[39m\u001b[38;5;124m\"\u001b[39m\u001b[38;5;124mSilhouette Score: \u001b[39m\u001b[38;5;132;01m{\u001b[39;00msilhouette\u001b[38;5;132;01m}\u001b[39;00m\u001b[38;5;124m\"\u001b[39m)\n\u001b[0;32m     14\u001b[0m \u001b[38;5;28mprint\u001b[39m(\u001b[38;5;124mf\u001b[39m\u001b[38;5;124m\"\u001b[39m\u001b[38;5;124mCalinski-Harabasz Index: \u001b[39m\u001b[38;5;132;01m{\u001b[39;00mcalinski_harabasz\u001b[38;5;132;01m}\u001b[39;00m\u001b[38;5;124m\"\u001b[39m)\n",
      "\u001b[1;31mNameError\u001b[0m: name 'ground_truth_labels' is not defined"
     ]
    }
   ],
   "source": [
    "# Calculate silhouette score\n",
    "silhouette = silhouette_score(features_df, cluster_labels)\n",
    "\n",
    "# Calculate Calinski-Harabasz index\n",
    "calinski_harabasz = calinski_harabasz_score(features_df, cluster_labels)\n",
    "\n",
    "# Calculate Davies-Bouldin index\n",
    "davies_bouldin = davies_bouldin_score(features_df, cluster_labels)\n",
    "\n",
    "# Calculate Adjusted Rand Index (ARI)\n",
    "ari = adjusted_rand_score(cluster_labels, cluster_labels)\n",
    "\n",
    "print(f\"Silhouette Score: {silhouette}\")\n",
    "print(f\"Calinski-Harabasz Index: {calinski_harabasz}\")\n",
    "print(f\"Davies-Bouldin Index: {davies_bouldin}\")\n",
    "print(f\"Adjusted Rand Index (ARI): {ari}\")"
   ]
  },
  {
   "cell_type": "code",
   "execution_count": 6,
   "metadata": {},
   "outputs": [
    {
     "name": "stdout",
     "output_type": "stream",
     "text": [
      "['Frequent Visitor', 'Frequent Visitor', 'First-time Visitor', 'Delivery', 'Frequent Visitor', 'Visitor', 'Resident', 'Frequent Visitor', 'Frequent Visitor', 'First-time Visitor']\n"
     ]
    }
   ],
   "source": [
    "labeled_categories = [label_mapping[label] for label in cluster_labels]\n",
    "print(labeled_categories)"
   ]
  },
  {
   "cell_type": "code",
   "execution_count": 8,
   "metadata": {},
   "outputs": [
    {
     "name": "stdout",
     "output_type": "stream",
     "text": [
      "['Frequent Visitor', 'Frequent Visitor', 'First-time Visitor', 'Delivery', 'Frequent Visitor', 'Visitor', 'Resident', 'Frequent Visitor', 'Frequent Visitor', 'First-time Visitor']\n"
     ]
    }
   ],
   "source": [
    "test_features_csv_file = \"./extracted_test_features.csv\"\n",
    "\n",
    "test_features_df = pd.read_csv(test_features_csv_file)\n",
    "\n",
    "# Trying to predict the cars in the test directory\n",
    "test_cluster_labels = kmeans.predict(test_features_df)\n",
    "\n",
    "# Mapping the output to the text labels\n",
    "predicted_categories = [label_mapping[label] for label in test_cluster_labels]\n",
    "\n",
    "print(predicted_categories)"
   ]
  }
 ],
 "metadata": {
  "kernelspec": {
   "display_name": "Python 3",
   "language": "python",
   "name": "python3"
  },
  "language_info": {
   "codemirror_mode": {
    "name": "ipython",
    "version": 3
   },
   "file_extension": ".py",
   "mimetype": "text/x-python",
   "name": "python",
   "nbconvert_exporter": "python",
   "pygments_lexer": "ipython3",
   "version": "3.9.1"
  }
 },
 "nbformat": 4,
 "nbformat_minor": 2
}
