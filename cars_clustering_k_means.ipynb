{
 "cells": [
  {
   "cell_type": "code",
   "execution_count": 11,
   "metadata": {},
   "outputs": [],
   "source": [
    "from sklearn.cluster import KMeans\n",
    "import pandas as pd\n",
    "from sklearn.metrics import silhouette_score, calinski_harabasz_score, davies_bouldin_score, adjusted_rand_score"
   ]
  },
  {
   "cell_type": "code",
   "execution_count": 3,
   "metadata": {},
   "outputs": [],
   "source": [
    "features_csv_file = \"./extracted_features.csv\"\n",
    "# Load extracted features from CSV\n",
    "features_df = pd.read_csv(features_csv_file)\n"
   ]
  },
  {
   "cell_type": "code",
   "execution_count": 4,
   "metadata": {},
   "outputs": [],
   "source": [
    "# Define a mapping from cluster labels to meaningful categories\n",
    "label_mapping = {\n",
    "    0: 'Resident',\n",
    "    1: 'Visitor',\n",
    "    2: 'Frequent Visitor',\n",
    "    3: 'First-time Visitor',\n",
    "    4: 'Delivery'\n",
    "}"
   ]
  },
  {
   "cell_type": "code",
   "execution_count": 5,
   "metadata": {},
   "outputs": [
    {
     "name": "stderr",
     "output_type": "stream",
     "text": [
      "c:\\Users\\toufic.f\\AppData\\Local\\Programs\\Python\\Python39\\lib\\site-packages\\sklearn\\cluster\\_kmeans.py:1416: FutureWarning: The default value of `n_init` will change from 10 to 'auto' in 1.4. Set the value of `n_init` explicitly to suppress the warning\n",
      "  super()._check_params_vs_input(X, default_n_init=10)\n"
     ]
    },
    {
     "name": "stdout",
     "output_type": "stream",
     "text": [
      "[2 2 3 4 2 1 0 2 2 3]\n"
     ]
    }
   ],
   "source": [
    "num_clusters = 5  # Number of clusters (e.g., residents, frequent visitors, first-time visitors, delivery, etc.)\n",
    "kmeans = KMeans(n_clusters=num_clusters, random_state=0).fit(features_df)\n",
    "\n",
    "# Assign cluster labels to the data\n",
    "cluster_labels = kmeans.labels_\n",
    "\n",
    "# Print cluster labels\n",
    "print(cluster_labels)\n"
   ]
  },
  {
   "cell_type": "code",
   "execution_count": 12,
   "metadata": {},
   "outputs": [
    {
     "name": "stdout",
     "output_type": "stream",
     "text": [
      "Silhouette Score: 0.10049645537968029\n",
      "Calinski-Harabasz Index: 2.913293265219981\n",
      "Davies-Bouldin Index: 0.7799894551985227\n",
      "Adjusted Rand Index (ARI): 1.0\n"
     ]
    }
   ],
   "source": [
    "# ground_truth_labels = [2,2,4,2,1,2,3,5,2,1]\n",
    "\n",
    "# Calculate silhouette score\n",
    "silhouette = silhouette_score(features_df, cluster_labels)\n",
    "\n",
    "# Calculate Calinski-Harabasz index\n",
    "calinski_harabasz = calinski_harabasz_score(features_df, cluster_labels)\n",
    "\n",
    "# Calculate Davies-Bouldin index\n",
    "davies_bouldin = davies_bouldin_score(features_df, cluster_labels)\n",
    "\n",
    "# Calculate Adjusted Rand Index (ARI)\n",
    "ari = adjusted_rand_score(cluster_labels, cluster_labels)\n",
    "\n",
    "print(f\"Silhouette Score: {silhouette}\")\n",
    "print(f\"Calinski-Harabasz Index: {calinski_harabasz}\")\n",
    "print(f\"Davies-Bouldin Index: {davies_bouldin}\")\n",
    "print(f\"Adjusted Rand Index (ARI): {ari}\")"
   ]
  },
  {
   "cell_type": "code",
   "execution_count": 6,
   "metadata": {},
   "outputs": [
    {
     "name": "stdout",
     "output_type": "stream",
     "text": [
      "['Frequent Visitor', 'Frequent Visitor', 'First-time Visitor', 'Delivery', 'Frequent Visitor', 'Visitor', 'Resident', 'Frequent Visitor', 'Frequent Visitor', 'First-time Visitor']\n"
     ]
    }
   ],
   "source": [
    "labeled_categories = [label_mapping[label] for label in cluster_labels]\n",
    "print(labeled_categories)"
   ]
  },
  {
   "cell_type": "code",
   "execution_count": 8,
   "metadata": {},
   "outputs": [
    {
     "name": "stdout",
     "output_type": "stream",
     "text": [
      "['Frequent Visitor', 'Frequent Visitor', 'First-time Visitor', 'Delivery', 'Frequent Visitor', 'Visitor', 'Resident', 'Frequent Visitor', 'Frequent Visitor', 'First-time Visitor']\n"
     ]
    }
   ],
   "source": [
    "test_features_csv_file = \"./extracted_test_features.csv\"\n",
    "\n",
    "test_features_df = pd.read_csv(test_features_csv_file)\n",
    "\n",
    "# Trying to predict the cars in the test directory\n",
    "test_cluster_labels = kmeans.predict(test_features_df)\n",
    "\n",
    "# Mapping the output to the text labels\n",
    "predicted_categories = [label_mapping[label] for label in test_cluster_labels]\n",
    "\n",
    "print(predicted_categories)"
   ]
  }
 ],
 "metadata": {
  "kernelspec": {
   "display_name": "Python 3",
   "language": "python",
   "name": "python3"
  },
  "language_info": {
   "codemirror_mode": {
    "name": "ipython",
    "version": 3
   },
   "file_extension": ".py",
   "mimetype": "text/x-python",
   "name": "python",
   "nbconvert_exporter": "python",
   "pygments_lexer": "ipython3",
   "version": "3.9.1"
  }
 },
 "nbformat": 4,
 "nbformat_minor": 2
}
