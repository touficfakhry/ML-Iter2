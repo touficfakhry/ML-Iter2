{
 "cells": [
  {
   "cell_type": "code",
   "execution_count": 3,
   "metadata": {},
   "outputs": [],
   "source": [
    "from sklearn.cluster import KMeans\n",
    "import pandas as pd"
   ]
  },
  {
   "cell_type": "code",
   "execution_count": 5,
   "metadata": {},
   "outputs": [],
   "source": [
    "features_csv_file = \"./extracted_features.csv\"\n",
    "# Load extracted features from CSV\n",
    "features_df = pd.read_csv(features_csv_file)\n"
   ]
  },
  {
   "cell_type": "code",
   "execution_count": 8,
   "metadata": {},
   "outputs": [],
   "source": [
    "# Define a mapping from cluster labels to meaningful categories\n",
    "label_mapping = {\n",
    "    0: 'Resident',\n",
    "    1: 'Visitor',\n",
    "    2: 'Frequent Visitor',\n",
    "    3: 'First-time Visitor',\n",
    "    4: 'Delivery'\n",
    "}"
   ]
  },
  {
   "cell_type": "code",
   "execution_count": 6,
   "metadata": {},
   "outputs": [
    {
     "name": "stderr",
     "output_type": "stream",
     "text": [
      "c:\\Users\\toufic.f\\AppData\\Local\\Programs\\Python\\Python39\\lib\\site-packages\\sklearn\\cluster\\_kmeans.py:1416: FutureWarning: The default value of `n_init` will change from 10 to 'auto' in 1.4. Set the value of `n_init` explicitly to suppress the warning\n",
      "  super()._check_params_vs_input(X, default_n_init=10)\n"
     ]
    },
    {
     "name": "stdout",
     "output_type": "stream",
     "text": [
      "[2 2 3 4 2 1 0 2 2 3]\n"
     ]
    }
   ],
   "source": [
    "num_clusters = 5  # Number of clusters (e.g., residents, frequent visitors, first-time visitors, delivery, etc.)\n",
    "kmeans = KMeans(n_clusters=num_clusters, random_state=0).fit(features_df)\n",
    "\n",
    "# Assign cluster labels to the data\n",
    "cluster_labels = kmeans.labels_\n",
    "\n",
    "# Print cluster labels\n",
    "print(cluster_labels)\n"
   ]
  },
  {
   "cell_type": "code",
   "execution_count": 10,
   "metadata": {},
   "outputs": [
    {
     "name": "stdout",
     "output_type": "stream",
     "text": [
      "['Frequent Visitor', 'Frequent Visitor', 'First-time Visitor', 'Delivery', 'Frequent Visitor', 'Visitor', 'Resident', 'Frequent Visitor', 'Frequent Visitor', 'First-time Visitor']\n"
     ]
    }
   ],
   "source": [
    "predicted_categories = [label_mapping[label] for label in cluster_labels]\n",
    "print(predicted_categories)"
   ]
  }
 ],
 "metadata": {
  "kernelspec": {
   "display_name": "Python 3",
   "language": "python",
   "name": "python3"
  },
  "language_info": {
   "codemirror_mode": {
    "name": "ipython",
    "version": 3
   },
   "file_extension": ".py",
   "mimetype": "text/x-python",
   "name": "python",
   "nbconvert_exporter": "python",
   "pygments_lexer": "ipython3",
   "version": "3.9.1"
  }
 },
 "nbformat": 4,
 "nbformat_minor": 2
}
